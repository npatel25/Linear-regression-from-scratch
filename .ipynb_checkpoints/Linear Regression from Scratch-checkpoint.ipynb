{
 "cells": [
  {
   "cell_type": "markdown",
   "metadata": {},
   "source": [
    "# Linear Regression from Scratch without using scikit learn.\n",
    "\n",
    "In this exercise, I will look at two different approaches to implemet linear regression or more precisely estimate linear regression co-efficients (also called weights or theta in ML jargon, I have reffered to it as theta in following code). The puprose of this exercise is to understand how these two approaches works and simulate it using python based on a toy dataset.\n",
    "\n",
    "### Linear Regression\n",
    "\n",
    "Statistically speaking, Linear regression is used to model relationship between a dependent variable (target vector) and a given set of independent variables (input variables). It assumes that there is a linear(i.e. staright line) relationship between dependent variable (target vector) and independent variables (input variables)\n",
    "\n",
    "In simple terms, target variable(y) can be calculated as a linear combination of the input variables (X). If there is just a  single input variable, it is called simple linear regression. If there are more than one input variables , it is called multiple linear regression.\n",
    "\n",
    "The equation for linear regression line is:\n",
    "\n",
    "y = theta_0 + theta \\* x\n",
    "\n",
    "Here, theta_0 and theta are the coefficients that are estimated from the input variables and target vector. Once they are calculated these values can used to predict target values for new data that comes in.\n",
    "\n",
    "The two approaches are:\n",
    "* Linear regression with Normal equation\n",
    "* Linear regression with Gradient Descent\n",
    "\n",
    "The key differences between the two approaches are:\n",
    "* Normal equation involves calculation of input variable's matrix inverse and matrix multiplication, hence gives a one shot answer for theta values.Suited for small datatsets only as matrix inverse and matrix multiplication are computaionally expensive operations.\n",
    "* Gradient Descent invovles mimizing a cost function over multiple iterartions. This technique is computationally less expensive and well suited for large datasets. Does not always give the optimal values of theta.\n",
    "\n",
    "\n",
    "In the following exercise we will estimate the values of theta using both approaches and see how the values for theta differ. \n"
   ]
  },
  {
   "cell_type": "code",
   "execution_count": 1,
   "metadata": {
    "collapsed": true,
    "scrolled": true
   },
   "outputs": [],
   "source": [
    "# importing the required libraries\n",
    "import numpy as np\n",
    "from matplotlib import pyplot\n",
    "import math\n",
    "from mpl_toolkits.mplot3d import axes3d"
   ]
  },
  {
   "cell_type": "code",
   "execution_count": 2,
   "metadata": {
    "collapsed": true,
    "scrolled": true
   },
   "outputs": [],
   "source": [
    "# Load the data\n",
    "data = np.loadtxt('linear_regression.txt', delimiter = ',')\n",
    "#separate predictor from target variable\n",
    "X = np.c_[np.ones(data.shape[0]), data[:,0]]\n",
    "y = np.c_[data[:,1]]"
   ]
  },
  {
   "cell_type": "markdown",
   "metadata": {},
   "source": [
    "## Linear Regression with Normal equation"
   ]
  },
  {
   "cell_type": "code",
   "execution_count": 3,
   "metadata": {
    "collapsed": true,
    "scrolled": true
   },
   "outputs": [],
   "source": [
    "# First appraoch - Normal equation\n",
    "\n",
    "def normalEquation(input_variables , target_vector):\n",
    "    \"\"\"\n",
    "    Parameteres: input variables (Table) , Target vector\n",
    "    Return: coefficinets \n",
    "    \"\"\"\n",
    "    input_variables_transpose = np.transpose(input_variables)\n",
    "    theta = np.dot(np.dot(np.linalg.inv(np.dot(input_variables_transpose, input_variables)),input_variables_transpose),target_vector)\n",
    "    return theta"
   ]
  },
  {
   "cell_type": "code",
   "execution_count": 4,
   "metadata": {
    "scrolled": true
   },
   "outputs": [
    {
     "data": {
      "text/plain": [
       "array([[-3.89578088],\n",
       "       [ 1.19303364]])"
      ]
     },
     "execution_count": 4,
     "metadata": {},
     "output_type": "execute_result"
    }
   ],
   "source": [
    "# applying normal equation to calculate theta (parameters)\n",
    "theta = normalEquation(X,y)\n",
    "theta"
   ]
  },
  {
   "cell_type": "markdown",
   "metadata": {},
   "source": [
    "## Linear Regression with Gradient Descent"
   ]
  },
  {
   "cell_type": "code",
   "execution_count": 5,
   "metadata": {
    "collapsed": true,
    "scrolled": true
   },
   "outputs": [],
   "source": [
    "# Second Approach - Gradient Descent\n",
    "\n",
    "def gradient_descent(input_var , output_var , iterations, learning_rate):\n",
    "    \"\"\"\n",
    "    Parameteres: input_var (Table) , output_var - Target vector, iterations - number of GD steps , learning rate - learning rate for gradient descent\n",
    "    Return: cost_history , theta_history \n",
    "    \"\"\"\n",
    "    cost_history = []\n",
    "    init_theta = np.zeros([input_var.shape[1],1]) # intializing theta at 0\n",
    "    theta_history = [init_theta]\n",
    "    for i in range(iterations):\n",
    "        prediction_y = np.dot(input_var, init_theta)\n",
    "        error = prediction_y - output_var\n",
    "        gd_vector = np.dot(np.transpose(input_var), error)\n",
    "        cost = np.sum((error ** 2)) / (2 * input_var.shape[0])\n",
    "        cost_history.append(cost)\n",
    "        init_theta = init_theta - ((learning_rate/input_var.shape[0]) * gd_vector)\n",
    "        theta_history.append(init_theta)\n",
    "        \n",
    "    return cost_history, theta_history \n"
   ]
  },
  {
   "cell_type": "code",
   "execution_count": 6,
   "metadata": {
    "collapsed": true,
    "scrolled": true
   },
   "outputs": [],
   "source": [
    "# applying gradient descent function to find theta (parameters) with learning rate of 0.01 and 1000 iterations (steps).\n",
    "e_cost_history, e_theta_history  = gradient_descent(X,y,1000,0.01)\n",
    "e_cost_history\n",
    "fin_theta = e_theta_history[-1]"
   ]
  },
  {
   "cell_type": "code",
   "execution_count": 7,
   "metadata": {},
   "outputs": [
    {
     "data": {
      "text/plain": [
       "array([[-3.24140214],\n",
       "       [ 1.1272942 ]])"
      ]
     },
     "execution_count": 7,
     "metadata": {},
     "output_type": "execute_result"
    }
   ],
   "source": [
    "fin_theta"
   ]
  },
  {
   "cell_type": "code",
   "execution_count": 8,
   "metadata": {
    "scrolled": true
   },
   "outputs": [
    {
     "data": {
      "image/png": "[encoded data removed]",
      "text/plain": [
       "<Figure size 432x288 with 1 Axes>"
      ]
     },
     "metadata": {},
     "output_type": "display_data"
    }
   ],
   "source": [
    "# Plot the cost function\n",
    "pyplot.title('Cost Function J')\n",
    "pyplot.xlabel('Iterations')\n",
    "pyplot.ylabel('Cost J')\n",
    "pyplot.ylim(4.4,7)\n",
    "pyplot.plot(e_cost_history)\n",
    "pyplot.show()"
   ]
  },
  {
   "cell_type": "markdown",
   "metadata": {},
   "source": [
    "## Plotting best fit linear regression line obtained by Normal equation and Gradient descnet"
   ]
  },
  {
   "cell_type": "code",
   "execution_count": 9,
   "metadata": {
    "scrolled": true
   },
   "outputs": [
    {
     "data": {
      "image/png": "[encoded data removed]",
      "text/plain": [
       "<Figure size 576x360 with 1 Axes>"
      ]
     },
     "metadata": {},
     "output_type": "display_data"
    }
   ],
   "source": [
    "# choosing the color blind friendly colors for the plots.\n",
    "cb_dark_blue = (0/255,107/255,164/255)\n",
    "cb_orange = (255/255, 128/255, 14/255)\n",
    "cb_gray = (171/255 , 171/255 , 171/255)\n",
    "\n",
    "\n",
    "# generate the linear regression hypothesis function\n",
    "hypothesis = [(theta[0] + x*theta[1]) for x in X[:,1]]\n",
    "hypothesis_gd = [(fin_theta[0] + x*fin_theta[1]) for x in X[:,1]]\n",
    "fig, ax = pyplot.subplots(figsize = (8,5))\n",
    "ax.plot(X[:,1], y[:,0], 'x', label = 'data' , color = cb_gray)\n",
    "ax.plot([x for x in X[:,1]], hypothesis, label = 'Linear regression with Normal-Equation', color = cb_orange)\n",
    "ax.plot([x for x in X[:,1]], hypothesis_gd, label = 'Linear regression (Gradient Descent)', color = cb_dark_blue)\n",
    "ax.legend(['Data', 'Linear regression with Normal-Equation', 'Linear regression (Gradient Descent)'], loc='lower right')\n",
    "ax.set_title('Linear Regression line with Normal Equation and Gradient Descent')\n",
    "ax.set_ylim(0, 25)\n",
    "ax.set_xlim(4, 22.5)\n",
    "pyplot.show()"
   ]
  },
  {
   "cell_type": "code",
   "execution_count": 10,
   "metadata": {
    "scrolled": true
   },
   "outputs": [
    {
     "data": {
      "text/plain": [
       "array([[-3.24140214],\n",
       "       [ 1.1272942 ]])"
      ]
     },
     "execution_count": 10,
     "metadata": {},
     "output_type": "execute_result"
    }
   ],
   "source": [
    "fin_theta"
   ]
  },
  {
   "cell_type": "markdown",
   "metadata": {},
   "source": [
    "## Conclusion:\n",
    "\n",
    "We see that the linear regression lines obtained by using the two approaches are slightly different, this is beacuase of the difference in theta values. We can bring the lines even closer by either increasing the number of iterations (steps) for gradient descent and/or slightly adjusting the learning rate."
   ]
  }
 ],
 "metadata": {
  "kernelspec": {
   "display_name": "Python 3",
   "language": "python",
   "name": "python3"
  },
  "language_info": {
   "codemirror_mode": {
    "name": "ipython",
    "version": 3
   },
   "file_extension": ".py",
   "mimetype": "text/x-python",
   "name": "python",
   "nbconvert_exporter": "python",
   "pygments_lexer": "ipython3",
   "version": "3.6.3"
  }
 },
 "nbformat": 4,
 "nbformat_minor": 2
}
